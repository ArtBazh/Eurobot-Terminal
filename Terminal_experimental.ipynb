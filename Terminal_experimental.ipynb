{
 "cells": [
  {
   "cell_type": "code",
   "execution_count": 1,
   "metadata": {},
   "outputs": [],
   "source": [
    "# Importing library\n",
    "import numpy as np\n",
    "import serial\n",
    "import array\n",
    "import time\n",
    "import binascii\n",
    "import sys\n",
    "import numpy\n",
    "from matplotlib import pyplot as plt\n",
    "import struct\n",
    "\n",
    "\n",
    "class HL_emulator:\n",
    "    def __init__(self, port=\"\", speed_rate=921600):\n",
    "\n",
    "        self.port = port\n",
    "        self.speed_rate = speed_rate\n",
    "\n",
    "    def serial_start(self):\n",
    "        # If you have problems please check that library pyserial is installed and lib serial is not installed\n",
    "        # Also you need USB-COM driver cp2102\n",
    "        # Probably you don't know the number of serial com port in you PC, then you need to push win+R and write command \"devmgmt.msc\". After that find 'com_port' tab and silicon lab devices.\n",
    "        ser = serial.Serial(\n",
    "            self.port,\n",
    "            self.speed_rate,\n",
    "            timeout=5,\n",
    "            xonxoff=False,\n",
    "            rtscts=False,\n",
    "            dsrdtr=False,\n",
    "        )\n",
    "        self.ser = ser\n",
    "        ser.setRTS(False)\n",
    "        ser.setDTR(False)\n",
    "        print(\"Port connected\")\n",
    "\n",
    "    def serial_close(self):\n",
    "        self.ser.close()\n",
    "        print(\"Port disconnected\")\n",
    "\n",
    "    def get_serial(self):\n",
    "        return self.ser\n",
    "\n",
    "    def serial_is_open(self):\n",
    "        if self.ser.isOpen()==True:\n",
    "            print(\"Serial is opening\")\n",
    "        else:\n",
    "            print(\"Serial is close\")\n",
    "        return self.ser.isOpen()\n",
    "        \n",
    "\n",
    "class STM_API:\n",
    "\n",
    "    def __init__(self, ser):\n",
    "        self.ser = ser\n",
    "\n",
    "    def CRC_Calc(self, packet: bytearray):\n",
    "        crc = 0\n",
    "        for ik in range(2, packet[2] + 2):\n",
    "            crc += packet[ik]\n",
    "        crc = ~crc\n",
    "        crc &= 0xFF\n",
    "        return bytearray([crc])\n",
    "\n",
    "    def Send_Packet(self, cmd: bytes, data: bytearray, data_length: bytes):\n",
    "        packet = bytearray([0xFF, 0xFF, data_length + 2, cmd]) + data\n",
    "        packet += self.CRC_Calc(packet)\n",
    "        self.ser.flushInput()\n",
    "        self.ser.write(packet)\n",
    "        return 0\n",
    "\n",
    "    def robot_set_coord(self, x: float, y: float, phi: float):\n",
    "        cmd = 0x06\n",
    "        data = bytearray(self.struct.pack(\"f\", x))\n",
    "        data += bytearray(self.struct.pack(\"f\", y))\n",
    "        data += bytearray(self.struct.pack(\"f\", phi))\n",
    "        data_length = 12\n",
    "        self.Send_Packet(cmd, data, data_length)\n",
    "\n",
    "    def robot_set_speed(self, dx: float, dy: float, dphi: float):\n",
    "        cmd = 0x04\n",
    "        data = bytearray(struct.pack(\"f\", dx))\n",
    "        data += bytearray(struct.pack(\"f\", dy))\n",
    "        data += bytearray(struct.pack(\"f\", dphi))\n",
    "        data_length = 12\n",
    "        self.Send_Packet(cmd, data, data_length)\n",
    "\n",
    "    def robot_get_speed(self):\n",
    "        cmd = 0x05\n",
    "        data = bytearray()\n",
    "        data_length = 0\n",
    "        self.Send_Packet(cmd, data, data_length)\n",
    "        rx_packet = self.ser.read(17)\n",
    "        speed = struct.unpack(\"f\", rx_packet[4:8])\n",
    "        speed += struct.unpack(\"f\", rx_packet[8:12])\n",
    "        speed += struct.unpack(\"f\", rx_packet[12:16])\n",
    "        return speed\n",
    "\n",
    "    def robot_get_coord(self):\n",
    "        cmd = 0x07\n",
    "        data = bytearray()\n",
    "        data_length = 0\n",
    "        self.Send_Packet(cmd, data, data_length)\n",
    "        rx_packet = self.ser.read(17)\n",
    "        coord = self.struct.unpack(\"f\", rx_packet[4:8])\n",
    "        coord += self.struct.unpack(\"f\", rx_packet[8:12])\n",
    "        coord += self.struct.unpack(\"f\", rx_packet[12:16])\n",
    "        return coord\n",
    "\n",
    "    def get_angle(self,ID):\n",
    "        cmd = 0x08\n",
    "        data = bytearray([ID])\n",
    "        data_length = 1\n",
    "        self.Send_Packet(cmd,data,data_length)\n",
    "\n",
    "        rx_packet = self.ser.read(7)\n",
    "        angle = struct.unpack('h', rx_packet[4:6])\n",
    "        print(angle)\n",
    "    \n",
    "    def set_angle(self, ID, angle):\n",
    "        cmd = 0x03\n",
    "        data = bytearray([ID,angle&0xFF,(angle>>8)&0xFF])\n",
    "        data_length = 3\n",
    "        self.Send_Packet(cmd,data,data_length)\n",
    "        time.sleep(0.01)\n",
    "    \n",
    "    def grub_pile(self, side):\n",
    "        cmd = 0x09\n",
    "        \n",
    "\n",
    "        data = bytearray([side])\n",
    "        data_length = 1\n",
    "\n",
    "        self.Send_Packet(cmd,data,data_length)\n",
    "    \n",
    "    def release_pile(self,side):\n",
    "        cmd = 0x0A\n",
    "        \n",
    "\n",
    "        data = bytearray([side])\n",
    "        data_length = 1\n",
    "\n",
    "        self.Send_Packet(cmd,data,data_length)\n",
    "    \n",
    "    def get_grub_status(self,side):\n",
    "        cmd = 0x0B\n",
    "        data = bytearray(struct.pack('i', side))\n",
    "        data_length = 4\n",
    "        self.Send_Packet(cmd,data,data_length)\n",
    "        rx_packet = self.ser.read(6)\n",
    "        status = rx_packet[4]\n",
    "        return status\n",
    "\n",
    "    def get_release_status(self,side):\n",
    "        cmd = 0x0D\n",
    "        data = bytearray(struct.pack('i', side))\n",
    "        data_length = 4\n",
    "        self.Send_Packet(cmd,data,data_length)\n",
    "        rx_packet = self.ser.read(6)\n",
    "        status = rx_packet[4]\n",
    "        return status\n",
    "\n",
    "    def set_wheel_mode(self, ID):\n",
    "        cmd = 0x0F\n",
    "        data = bytearray([ID])\n",
    "        data_length = 1\n",
    "        self.Send_Packet(cmd, data, data_length)\n",
    "\n",
    "    def set_joint_mode(self, ID):\n",
    "        cmd = 0x10\n",
    "        data = bytearray([ID])\n",
    "        data_length = 1\n",
    "        self.Send_Packet(cmd, data, data_length)\n",
    "    \n",
    "    def set_speed(self, ID, speed):\n",
    "        cmd = 0x11\n",
    "        # data = bytearray([ID, *speed.to_bytes(2, 'little')])\n",
    "        data =bytearray([ID])\n",
    "        data += bytearray(struct.pack('h', speed))\n",
    "        data_length = 3\n",
    "        self.Send_Packet(cmd, data, data_length)\n",
    "\n",
    "    def step_angle(self, ID, angle):\n",
    "        cmd = 0x13\n",
    "        data =bytearray([ID])\n",
    "        data += bytearray(struct.pack('i', angle))\n",
    "        data_length = 5\n",
    "        self.Send_Packet(cmd, data, data_length)\n",
    "\n",
    "    def stop_stepper(self, ID):\n",
    "        cmd = 0x14\n",
    "        data =bytearray([ID])\n",
    "        data_length = 1\n",
    "        self.Send_Packet(cmd, data, data_length)\n",
    "\n",
    "    def set_pwm(self, ID, speed):\n",
    "        cmd = 0x12\n",
    "        data = bytearray([ID, *speed.to_bytes(2, 'little')])\n",
    "        data_length = 3\n",
    "        self.Send_Packet(cmd, data, data_length)\n",
    "\n",
    "    def calibrate(self, ID):\n",
    "        self.set_pwm(ID, 100)\n",
    "        time.sleep(3)\n",
    "        self.set_pwm(ID, 200)\n",
    "        time.sleep(3)\n",
    "        self.set_pwm(ID, 100)\n",
    "\n",
    "    def calibrateNewEmp(self, ID):\n",
    "        self.set_pwm(ID, 200)\n",
    "        time.sleep(3)\n",
    "        self.set_pwm(ID, 100)\n",
    "\n",
    "    def robot_set_speed_e(self, dx: float, dy: float, dphi: float):\n",
    "        cmd = 0x15\n",
    "        data = bytearray(struct.pack(\"f\", dx))\n",
    "        data += bytearray(struct.pack(\"f\", dy))\n",
    "        data += bytearray(struct.pack(\"f\", dphi))\n",
    "        data_length = 12\n",
    "        self.Send_Packet(cmd, data, data_length)\n",
    "    def encoder_check(self, ID):\n",
    "        cmd = 0x18\n",
    "        data = bytearray(struct.pack(\"B\", ID))\n",
    "        data_length = 1\n",
    "        if ID == 22:\n",
    "            self.Send_Packet(cmd, data, data_length)\n",
    "            rx_packet = self.ser.read(14)\n",
    "            print(struct.unpack(\"i\", rx_packet[5:9]))\n",
    "            print(struct.unpack(\"i\", rx_packet[9:13]))\n",
    "        else:\n",
    "            self.Send_Packet(cmd, data, data_length)\n",
    "            rx_packet = self.ser.read(10)\n",
    "            print(\"ID = \")\n",
    "            print(rx_packet[4])\n",
    "            if rx_packet[4] == 2:\n",
    "                print(struct.unpack(\"i\", rx_packet[5:9]))\n",
    "            else:\n",
    "                print(struct.unpack(\"i\", rx_packet[5:9]))\n",
    "\n",
    "        \n",
    "    def DC(self, ID, dir, speed):\n",
    "        cmd = 0x16\n",
    "        data = bytearray(struct.pack(\"B\", ID))\n",
    "        data += bytearray(struct.pack(\"B\", dir))\n",
    "        data += bytearray(struct.pack(\"H\", speed))\n",
    "        data_length = 4\n",
    "        self.Send_Packet(cmd, data, data_length)\n",
    "    def setPosition(self, ID, angle):\n",
    "        cmd = 0x17\n",
    "        angle_ticks = angle\n",
    "        data = bytearray(struct.pack(\"B\", ID))\n",
    "        data += bytearray(struct.pack(\"i\", angle_ticks))\n",
    "        data_length = 5\n",
    "        self.Send_Packet(cmd, data, data_length)\n",
    "    def setMaxonPosition(self, ID, angle):\n",
    "        cmd = 0x17\n",
    "        angle_ticks = angle\n",
    "        data = bytearray(struct.pack(\"B\", ID))\n",
    "        data += bytearray(struct.pack(\"i\", angle_ticks))\n",
    "        data_length = 5\n",
    "        self.Send_Packet(cmd, data, data_length)\n",
    "    def sort_golden_bot(self):\n",
    "        cmd = 0x18\n",
    "        data = bytearray(struct.pack(\"B\", 1))\n",
    "        data_length = 1\n",
    "        self.Send_Packet(cmd, data, data_length)\n",
    "    def sort(self):\n",
    "        cmd = 0x1A\n",
    "        data = bytearray()\n",
    "        data_length = 0\n",
    "        self.Send_Packet(cmd, data, data_length)\n",
    "\n",
    "    def sort_status(self):\n",
    "        cmd = 0x1B\n",
    "        data = bytearray()\n",
    "        data_length = 0\n",
    "        self.Send_Packet(cmd, data, data_length)\n",
    "        rx_packet = self.ser.read(6)\n",
    "        status = rx_packet[4]\n",
    "        print(status)\n",
    "    def servo_angle(self, ID, angle):\n",
    "        cmd = 0x12\n",
    "        data = bytearray([ID])\n",
    "        angle_trans = int(7 / 6 * angle) + 45\n",
    "        data += bytearray(struct.pack(\"H\", angle_trans))\n",
    "        data_length = 3\n",
    "        self.Send_Packet(cmd, data, data_length)\n",
    "    def zeroPosition(self):\n",
    "        cmd = 0x1D\n",
    "        data = bytearray()\n",
    "        data_length = 0\n",
    "        self.Send_Packet(cmd, data, data_length)\n",
    "    def optimalSort(self):\n",
    "        cmd = 0x1C\n",
    "        data = bytearray()\n",
    "        data_length = 0\n",
    "        self.Send_Packet(cmd, data, data_length)\n",
    "    def switchEmp(self, sw):\n",
    "        cmd = 0x1F\n",
    "        data = bytearray([sw])\n",
    "        data_length = 1\n",
    "        self.Send_Packet(cmd, data, data_length)\n",
    "    def gripperCalibration(self):\n",
    "        cmd = 0x20\n",
    "        data = bytearray()\n",
    "        data_length = 0\n",
    "        self.Send_Packet(cmd, data, data_length)\n",
    "    def encoder_reset(self, ID):\n",
    "        idies = [10, 11, 12]\n",
    "        for id in ID:\n",
    "            self.encoder_check(idies[id])\n",
    "    def impel_test(self, speed):\n",
    "        for j in range(10):\n",
    "            for i in range(2):\n",
    "                self.set_pwm(7, 100)\n",
    "                time.sleep(5)\n",
    "                self.switchEmp(0)\n",
    "                time.sleep(1)\n",
    "                self.set_pwm(7, speed + 100)\n",
    "                time.sleep(12)\n",
    "\n",
    "                self.set_pwm(7, 100)\n",
    "                time.sleep(5)\n",
    "                self.switchEmp(1)\n",
    "                time.sleep(1)\n",
    "                self.set_pwm(7, speed + 100)\n",
    "                time.sleep(12)\n",
    "            self.set_pwm(7, 100)\n",
    "            time.sleep(2*60)\n",
    "    def game_start(self):\n",
    "        cmd = 0x21\n",
    "        data = bytearray()\n",
    "        data_length = 0\n",
    "        self.Send_Packet(cmd, data, data_length)\n",
    "        rx_packet = self.ser.read(6)\n",
    "        status = rx_packet[4]\n",
    "        print(status)\n",
    "    \n",
    "\n"
   ]
  },
  {
   "cell_type": "code",
   "execution_count": 100,
   "metadata": {},
   "outputs": [
    {
     "name": "stdout",
     "output_type": "stream",
     "text": [
      "Port connected\n",
      "Serial is opening\n"
     ]
    }
   ],
   "source": [
    "#vova_em='/dev/cu.SLAB_USBtoUART'\n",
    "ser_em_desk=\"COM4\"\n",
    "\n",
    "\n",
    "emulator=HL_emulator(port=vova_em)q\n",
    "emulator.serial_start()\n",
    "\n",
    "emulator.serial_is_open()\n",
    "\n",
    "ST=STM_API(ser=emulator.get_serial())"
   ]
  },
  {
   "cell_type": "code",
   "execution_count": 22,
   "metadata": {},
   "outputs": [
    {
     "name": "stdout",
     "output_type": "stream",
     "text": [
      "ID = \n",
      "0\n",
      "(-580,)\n",
      "ID = \n",
      "1\n",
      "(-1158,)\n"
     ]
    }
   ],
   "source": [
    "ST.encoder_check(0)\n",
    "ST.encoder_check(1)"
   ]
  },
  {
   "cell_type": "code",
   "execution_count": 122,
   "metadata": {},
   "outputs": [
    {
     "name": "stdout",
     "output_type": "stream",
     "text": [
      "0\n"
     ]
    }
   ],
   "source": [
    "ST.game_start()"
   ]
  },
  {
   "cell_type": "code",
   "execution_count": 81,
   "metadata": {},
   "outputs": [
    {
     "name": "stdout",
     "output_type": "stream",
     "text": [
      "ID = \n",
      "2\n",
      "(0,)\n"
     ]
    }
   ],
   "source": [
    "ST.encoder_check(2)"
   ]
  },
  {
   "cell_type": "code",
   "execution_count": 469,
   "metadata": {},
   "outputs": [],
   "source": [
    "ST.servo_angle(7, 40)"
   ]
  },
  {
   "cell_type": "code",
   "execution_count": 111,
   "metadata": {},
   "outputs": [],
   "source": [
    "ST.setPosition(2, 200)"
   ]
  },
  {
   "cell_type": "code",
   "execution_count": 108,
   "metadata": {},
   "outputs": [],
   "source": [
    "ST.setPosition(1, 0)"
   ]
  },
  {
   "cell_type": "code",
   "execution_count": 103,
   "metadata": {},
   "outputs": [],
   "source": [
    "ST.setPosition(2,354)"
   ]
  },
  {
   "cell_type": "code",
   "execution_count": 1171,
   "metadata": {},
   "outputs": [],
   "source": [
    "ST.switchEmp(0)"
   ]
  },
  {
   "cell_type": "code",
   "execution_count": 298,
   "metadata": {},
   "outputs": [],
   "source": [
    "ST.set_angle(2, 22)"
   ]
  },
  {
   "cell_type": "code",
   "execution_count": 19,
   "metadata": {},
   "outputs": [],
   "source": [
    "ST.gripperCalibration()"
   ]
  },
  {
   "cell_type": "code",
   "execution_count": 23,
   "metadata": {},
   "outputs": [],
   "source": [
    "ST.zeroPosition()"
   ]
  },
  {
   "cell_type": "code",
   "execution_count": 897,
   "metadata": {},
   "outputs": [],
   "source": [
    "ST.set_pwm(6, 190)"
   ]
  },
  {
   "cell_type": "code",
   "execution_count": 898,
   "metadata": {},
   "outputs": [],
   "source": [
    "ST.set_pwm(6, 100)"
   ]
  },
  {
   "cell_type": "code",
   "execution_count": 831,
   "metadata": {},
   "outputs": [],
   "source": [
    "ST.set_pwm(7, 200)"
   ]
  },
  {
   "cell_type": "code",
   "execution_count": 832,
   "metadata": {},
   "outputs": [],
   "source": [
    "ST.set_pwm(7, 200)\n",
    "time.sleep(2)\n",
    "ST.set_pwm(7, 100)"
   ]
  },
  {
   "cell_type": "code",
   "execution_count": 145,
   "metadata": {},
   "outputs": [
    {
     "name": "stdout",
     "output_type": "stream",
     "text": [
      "(129,)\n"
     ]
    }
   ],
   "source": [
    "ST.get_angle(5)"
   ]
  },
  {
   "cell_type": "code",
   "execution_count": 159,
   "metadata": {},
   "outputs": [
    {
     "name": "stdout",
     "output_type": "stream",
     "text": [
      "ID = \n",
      "2\n",
      "(0,)\n"
     ]
    }
   ],
   "source": [
    "ST.encoder_check(2)"
   ]
  },
  {
   "cell_type": "code",
   "execution_count": 935,
   "metadata": {},
   "outputs": [],
   "source": [
    "ST.grub_pile(1)\n",
    "ST.grub_pile(2)\n",
    "ST.grub_pile(3)"
   ]
  },
  {
   "cell_type": "code",
   "execution_count": 936,
   "metadata": {},
   "outputs": [],
   "source": [
    "ST.release_pile(1)\n",
    "ST.release_pile(2)\n",
    "ST.release_pile(3)"
   ]
  },
  {
   "cell_type": "code",
   "execution_count": 26,
   "metadata": {},
   "outputs": [],
   "source": [
    "ST.zeroPosition()\n"
   ]
  },
  {
   "cell_type": "code",
   "execution_count": 20,
   "metadata": {},
   "outputs": [
    {
     "name": "stdout",
     "output_type": "stream",
     "text": [
      "ID = \n",
      "10\n",
      "(-10000160,)\n",
      "ID = \n",
      "11\n",
      "(-10000160,)\n",
      "ID = \n",
      "12\n",
      "(-10000160,)\n"
     ]
    }
   ],
   "source": [
    "ST.encoder_reset([0,1,2])"
   ]
  },
  {
   "cell_type": "code",
   "execution_count": 25,
   "metadata": {},
   "outputs": [],
   "source": [
    "ST.optimalSort()"
   ]
  },
  {
   "cell_type": "code",
   "execution_count": 916,
   "metadata": {},
   "outputs": [],
   "source": [
    "ST.grub_pile(1)\n",
    "ST.grub_pile(2)\n",
    "ST.grub_pile(3)"
   ]
  },
  {
   "cell_type": "code",
   "execution_count": 917,
   "metadata": {},
   "outputs": [],
   "source": [
    "ST.release_pile(1)\n",
    "ST.release_pile(2)\n",
    "ST.release_pile(3)"
   ]
  },
  {
   "cell_type": "code",
   "execution_count": 939,
   "metadata": {},
   "outputs": [],
   "source": [
    "# time.sleep(5)\n",
    "ST.sort()"
   ]
  },
  {
   "cell_type": "code",
   "execution_count": 673,
   "metadata": {},
   "outputs": [
    {
     "name": "stdout",
     "output_type": "stream",
     "text": [
      "1\n"
     ]
    }
   ],
   "source": [
    "ST.sort_status()"
   ]
  },
  {
   "cell_type": "code",
   "execution_count": 84,
   "metadata": {},
   "outputs": [
    {
     "name": "stdout",
     "output_type": "stream",
     "text": [
      "ID = \n",
      "2\n",
      "(2,)\n"
     ]
    }
   ],
   "source": [
    "ST.encoder_check(2)"
   ]
  },
  {
   "cell_type": "code",
   "execution_count": 931,
   "metadata": {},
   "outputs": [],
   "source": [
    "ST.setPosition(2, 8)"
   ]
  },
  {
   "cell_type": "code",
   "execution_count": 649,
   "metadata": {},
   "outputs": [],
   "source": [
    "ST.setPosition(2, 0)"
   ]
  },
  {
   "cell_type": "code",
   "execution_count": 984,
   "metadata": {},
   "outputs": [
    {
     "ename": "error",
     "evalue": "(6, 'Device not configured')",
     "output_type": "error",
     "traceback": [
      "\u001b[0;31m---------------------------------------------------------------------------\u001b[0m",
      "\u001b[0;31merror\u001b[0m                                     Traceback (most recent call last)",
      "\u001b[1;32m/Users/vladimirberman/Documents/RESET2022/stm_reset_2023_hl_emulator/Terminal_experimental.ipynb Ячейка 19\u001b[0m in \u001b[0;36m<cell line: 1>\u001b[0;34m()\u001b[0m\n\u001b[0;32m----> <a href='vscode-notebook-cell:/Users/vladimirberman/Documents/RESET2022/stm_reset_2023_hl_emulator/Terminal_experimental.ipynb#Y206sZmlsZQ%3D%3D?line=0'>1</a>\u001b[0m ST\u001b[39m.\u001b[39;49mencoder_check(\u001b[39m2\u001b[39;49m)\n",
      "\u001b[1;32m/Users/vladimirberman/Documents/RESET2022/stm_reset_2023_hl_emulator/Terminal_experimental.ipynb Ячейка 19\u001b[0m in \u001b[0;36mSTM_API.encoder_check\u001b[0;34m(self, ID)\u001b[0m\n\u001b[1;32m    <a href='vscode-notebook-cell:/Users/vladimirberman/Documents/RESET2022/stm_reset_2023_hl_emulator/Terminal_experimental.ipynb#Y206sZmlsZQ%3D%3D?line=227'>228</a>\u001b[0m     \u001b[39mprint\u001b[39m(struct\u001b[39m.\u001b[39munpack(\u001b[39m\"\u001b[39m\u001b[39mi\u001b[39m\u001b[39m\"\u001b[39m, rx_packet[\u001b[39m5\u001b[39m:\u001b[39m9\u001b[39m])) \u001b[39m#'\\n', struct.unpack(\"I\", rx_packet[9:13]), '\\n', struct.unpack(\"I\", rx_packet[13:17]))\u001b[39;00m\n\u001b[1;32m    <a href='vscode-notebook-cell:/Users/vladimirberman/Documents/RESET2022/stm_reset_2023_hl_emulator/Terminal_experimental.ipynb#Y206sZmlsZQ%3D%3D?line=228'>229</a>\u001b[0m \u001b[39melse\u001b[39;00m:\n\u001b[0;32m--> <a href='vscode-notebook-cell:/Users/vladimirberman/Documents/RESET2022/stm_reset_2023_hl_emulator/Terminal_experimental.ipynb#Y206sZmlsZQ%3D%3D?line=229'>230</a>\u001b[0m     \u001b[39mself\u001b[39;49m\u001b[39m.\u001b[39;49mSend_Packet(cmd, data, data_length)\n\u001b[1;32m    <a href='vscode-notebook-cell:/Users/vladimirberman/Documents/RESET2022/stm_reset_2023_hl_emulator/Terminal_experimental.ipynb#Y206sZmlsZQ%3D%3D?line=230'>231</a>\u001b[0m     rx_packet \u001b[39m=\u001b[39m \u001b[39mself\u001b[39m\u001b[39m.\u001b[39mser\u001b[39m.\u001b[39mread(\u001b[39m10\u001b[39m)\n\u001b[1;32m    <a href='vscode-notebook-cell:/Users/vladimirberman/Documents/RESET2022/stm_reset_2023_hl_emulator/Terminal_experimental.ipynb#Y206sZmlsZQ%3D%3D?line=231'>232</a>\u001b[0m     \u001b[39mprint\u001b[39m(\u001b[39m\"\u001b[39m\u001b[39mID = \u001b[39m\u001b[39m\"\u001b[39m)\n",
      "\u001b[1;32m/Users/vladimirberman/Documents/RESET2022/stm_reset_2023_hl_emulator/Terminal_experimental.ipynb Ячейка 19\u001b[0m in \u001b[0;36mSTM_API.Send_Packet\u001b[0;34m(self, cmd, data, data_length)\u001b[0m\n\u001b[1;32m     <a href='vscode-notebook-cell:/Users/vladimirberman/Documents/RESET2022/stm_reset_2023_hl_emulator/Terminal_experimental.ipynb#Y206sZmlsZQ%3D%3D?line=64'>65</a>\u001b[0m packet \u001b[39m=\u001b[39m \u001b[39mbytearray\u001b[39m([\u001b[39m0xFF\u001b[39m, \u001b[39m0xFF\u001b[39m, data_length \u001b[39m+\u001b[39m \u001b[39m2\u001b[39m, cmd]) \u001b[39m+\u001b[39m data\n\u001b[1;32m     <a href='vscode-notebook-cell:/Users/vladimirberman/Documents/RESET2022/stm_reset_2023_hl_emulator/Terminal_experimental.ipynb#Y206sZmlsZQ%3D%3D?line=65'>66</a>\u001b[0m packet \u001b[39m+\u001b[39m\u001b[39m=\u001b[39m \u001b[39mself\u001b[39m\u001b[39m.\u001b[39mCRC_Calc(packet)\n\u001b[0;32m---> <a href='vscode-notebook-cell:/Users/vladimirberman/Documents/RESET2022/stm_reset_2023_hl_emulator/Terminal_experimental.ipynb#Y206sZmlsZQ%3D%3D?line=66'>67</a>\u001b[0m \u001b[39mself\u001b[39;49m\u001b[39m.\u001b[39;49mser\u001b[39m.\u001b[39;49mflushInput()\n\u001b[1;32m     <a href='vscode-notebook-cell:/Users/vladimirberman/Documents/RESET2022/stm_reset_2023_hl_emulator/Terminal_experimental.ipynb#Y206sZmlsZQ%3D%3D?line=67'>68</a>\u001b[0m \u001b[39mself\u001b[39m\u001b[39m.\u001b[39mser\u001b[39m.\u001b[39mwrite(packet)\n\u001b[1;32m     <a href='vscode-notebook-cell:/Users/vladimirberman/Documents/RESET2022/stm_reset_2023_hl_emulator/Terminal_experimental.ipynb#Y206sZmlsZQ%3D%3D?line=68'>69</a>\u001b[0m \u001b[39mreturn\u001b[39;00m \u001b[39m0\u001b[39m\n",
      "File \u001b[0;32m~/opt/anaconda3/lib/python3.9/site-packages/serial/serialutil.py:588\u001b[0m, in \u001b[0;36mSerialBase.flushInput\u001b[0;34m(self)\u001b[0m\n\u001b[1;32m    587\u001b[0m \u001b[39mdef\u001b[39;00m \u001b[39mflushInput\u001b[39m(\u001b[39mself\u001b[39m):\n\u001b[0;32m--> 588\u001b[0m     \u001b[39mself\u001b[39;49m\u001b[39m.\u001b[39;49mreset_input_buffer()\n",
      "File \u001b[0;32m~/opt/anaconda3/lib/python3.9/site-packages/serial/serialposix.py:683\u001b[0m, in \u001b[0;36mSerial.reset_input_buffer\u001b[0;34m(self)\u001b[0m\n\u001b[1;32m    681\u001b[0m \u001b[39mif\u001b[39;00m \u001b[39mnot\u001b[39;00m \u001b[39mself\u001b[39m\u001b[39m.\u001b[39mis_open:\n\u001b[1;32m    682\u001b[0m     \u001b[39mraise\u001b[39;00m PortNotOpenError()\n\u001b[0;32m--> 683\u001b[0m \u001b[39mself\u001b[39;49m\u001b[39m.\u001b[39;49m_reset_input_buffer()\n",
      "File \u001b[0;32m~/opt/anaconda3/lib/python3.9/site-packages/serial/serialposix.py:677\u001b[0m, in \u001b[0;36mSerial._reset_input_buffer\u001b[0;34m(self)\u001b[0m\n\u001b[1;32m    675\u001b[0m \u001b[39mdef\u001b[39;00m \u001b[39m_reset_input_buffer\u001b[39m(\u001b[39mself\u001b[39m):\n\u001b[1;32m    676\u001b[0m     \u001b[39m\"\"\"Clear input buffer, discarding all that is in the buffer.\"\"\"\u001b[39;00m\n\u001b[0;32m--> 677\u001b[0m     termios\u001b[39m.\u001b[39;49mtcflush(\u001b[39mself\u001b[39;49m\u001b[39m.\u001b[39;49mfd, termios\u001b[39m.\u001b[39;49mTCIFLUSH)\n",
      "\u001b[0;31merror\u001b[0m: (6, 'Device not configured')"
     ]
    }
   ],
   "source": [
    "ST.encoder_check(2)"
   ]
  },
  {
   "cell_type": "code",
   "execution_count": 295,
   "metadata": {},
   "outputs": [],
   "source": [
    "ST.switchEmp(0) # zero - clockwise - suck"
   ]
  },
  {
   "cell_type": "code",
   "execution_count": 36,
   "metadata": {},
   "outputs": [],
   "source": [
    "ST.set_pwm(7, 100)\n",
    "# ST.set_pwm(1, 150)\n",
    "# ST.calibrateNewEmp(1)"
   ]
  },
  {
   "cell_type": "code",
   "execution_count": 12,
   "metadata": {},
   "outputs": [],
   "source": [
    "time.sleep(2)\n",
    "ST.set_pwm(7, 200)\n",
    "time.sleep(2)\n",
    "ST.set_pwm(7, 100)\n"
   ]
  },
  {
   "cell_type": "code",
   "execution_count": 46,
   "metadata": {},
   "outputs": [],
   "source": [
    "# ST.set_pwm(1, 100)\n",
    "ST.set_pwm(7, 100)"
   ]
  },
  {
   "cell_type": "code",
   "execution_count": 825,
   "metadata": {},
   "outputs": [],
   "source": [
    "ST.zeroPosition()"
   ]
  },
  {
   "cell_type": "code",
   "execution_count": 491,
   "metadata": {},
   "outputs": [],
   "source": [
    "ST.sort()"
   ]
  },
  {
   "cell_type": "code",
   "execution_count": 42,
   "metadata": {},
   "outputs": [],
   "source": [
    "ST.optimalSort()"
   ]
  },
  {
   "cell_type": "code",
   "execution_count": 84,
   "metadata": {},
   "outputs": [
    {
     "name": "stdout",
     "output_type": "stream",
     "text": [
      "(0,)\n"
     ]
    }
   ],
   "source": [
    "ST.encoder_check(66)"
   ]
  },
  {
   "cell_type": "code",
   "execution_count": 3,
   "metadata": {},
   "outputs": [],
   "source": [
    "ST.servo_angle(7, 0)"
   ]
  },
  {
   "cell_type": "code",
   "execution_count": null,
   "metadata": {},
   "outputs": [],
   "source": [
    "ST.set_pwm(7, 255)"
   ]
  },
  {
   "cell_type": "code",
   "execution_count": 107,
   "metadata": {},
   "outputs": [],
   "source": [
    "ST.setPosition(2, 465)"
   ]
  },
  {
   "cell_type": "code",
   "execution_count": 93,
   "metadata": {},
   "outputs": [],
   "source": [
    "ST.setPosition(1, 420)"
   ]
  },
  {
   "cell_type": "code",
   "execution_count": 123,
   "metadata": {},
   "outputs": [],
   "source": [
    "ST.setPosition(1, 0)"
   ]
  },
  {
   "cell_type": "code",
   "execution_count": 146,
   "metadata": {},
   "outputs": [],
   "source": [
    "ST.setPosition(2, 0)"
   ]
  },
  {
   "cell_type": "code",
   "execution_count": 201,
   "metadata": {},
   "outputs": [],
   "source": [
    "for i in range(3):\n",
    "    ST.grub_pile(i + 1)"
   ]
  },
  {
   "cell_type": "code",
   "execution_count": 492,
   "metadata": {},
   "outputs": [],
   "source": [
    "for i in range(3):\n",
    "    ST.release_pile(i + 1)"
   ]
  },
  {
   "cell_type": "code",
   "execution_count": 203,
   "metadata": {},
   "outputs": [],
   "source": [
    "ST.sort()"
   ]
  },
  {
   "cell_type": "code",
   "execution_count": 615,
   "metadata": {},
   "outputs": [],
   "source": [
    "ST.zeroPosition()"
   ]
  },
  {
   "cell_type": "code",
   "execution_count": 52,
   "metadata": {},
   "outputs": [
    {
     "ename": "error",
     "evalue": "'i' format requires -2147483648 <= number <= 2147483647",
     "output_type": "error",
     "traceback": [
      "\u001b[0;31m---------------------------------------------------------------------------\u001b[0m",
      "\u001b[0;31merror\u001b[0m                                     Traceback (most recent call last)",
      "\u001b[1;32m/Users/vladimirberman/Documents/RESET2022/stm_reset_2023_hl_emulator/Terminal_experimental.ipynb Ячейка 23\u001b[0m in \u001b[0;36m<cell line: 1>\u001b[0;34m()\u001b[0m\n\u001b[0;32m----> <a href='vscode-notebook-cell:/Users/vladimirberman/Documents/RESET2022/stm_reset_2023_hl_emulator/Terminal_experimental.ipynb#X30sZmlsZQ%3D%3D?line=0'>1</a>\u001b[0m ST\u001b[39m.\u001b[39;49msetPosition(\u001b[39m1\u001b[39;49m, \u001b[39m2000030000\u001b[39;49m)\n",
      "\u001b[1;32m/Users/vladimirberman/Documents/RESET2022/stm_reset_2023_hl_emulator/Terminal_experimental.ipynb Ячейка 23\u001b[0m in \u001b[0;36mSTM_API.setPosition\u001b[0;34m(self, ID, angle)\u001b[0m\n\u001b[1;32m    <a href='vscode-notebook-cell:/Users/vladimirberman/Documents/RESET2022/stm_reset_2023_hl_emulator/Terminal_experimental.ipynb#X30sZmlsZQ%3D%3D?line=244'>245</a>\u001b[0m angle_ticks \u001b[39m=\u001b[39m \u001b[39mint\u001b[39m(angle \u001b[39m/\u001b[39m \u001b[39m360.0\u001b[39m \u001b[39m*\u001b[39m \u001b[39m1530\u001b[39m)\n\u001b[1;32m    <a href='vscode-notebook-cell:/Users/vladimirberman/Documents/RESET2022/stm_reset_2023_hl_emulator/Terminal_experimental.ipynb#X30sZmlsZQ%3D%3D?line=245'>246</a>\u001b[0m data \u001b[39m=\u001b[39m \u001b[39mbytearray\u001b[39m(struct\u001b[39m.\u001b[39mpack(\u001b[39m\"\u001b[39m\u001b[39mB\u001b[39m\u001b[39m\"\u001b[39m, ID))\n\u001b[0;32m--> <a href='vscode-notebook-cell:/Users/vladimirberman/Documents/RESET2022/stm_reset_2023_hl_emulator/Terminal_experimental.ipynb#X30sZmlsZQ%3D%3D?line=246'>247</a>\u001b[0m data \u001b[39m+\u001b[39m\u001b[39m=\u001b[39m \u001b[39mbytearray\u001b[39m(struct\u001b[39m.\u001b[39;49mpack(\u001b[39m\"\u001b[39;49m\u001b[39mi\u001b[39;49m\u001b[39m\"\u001b[39;49m, angle_ticks))\n\u001b[1;32m    <a href='vscode-notebook-cell:/Users/vladimirberman/Documents/RESET2022/stm_reset_2023_hl_emulator/Terminal_experimental.ipynb#X30sZmlsZQ%3D%3D?line=247'>248</a>\u001b[0m data_length \u001b[39m=\u001b[39m \u001b[39m5\u001b[39m\n\u001b[1;32m    <a href='vscode-notebook-cell:/Users/vladimirberman/Documents/RESET2022/stm_reset_2023_hl_emulator/Terminal_experimental.ipynb#X30sZmlsZQ%3D%3D?line=248'>249</a>\u001b[0m \u001b[39mself\u001b[39m\u001b[39m.\u001b[39mSend_Packet(cmd, data, data_length)\n",
      "\u001b[0;31merror\u001b[0m: 'i' format requires -2147483648 <= number <= 2147483647"
     ]
    }
   ],
   "source": [
    "ST.setPosition(1, 2000030000)"
   ]
  },
  {
   "cell_type": "code",
   "execution_count": 106,
   "metadata": {},
   "outputs": [
    {
     "name": "stdout",
     "output_type": "stream",
     "text": [
      "ID = \n",
      "2\n",
      "(32000,)\n"
     ]
    }
   ],
   "source": [
    "ST.encoder_check(2)"
   ]
  },
  {
   "cell_type": "code",
   "execution_count": 103,
   "metadata": {},
   "outputs": [
    {
     "name": "stdout",
     "output_type": "stream",
     "text": [
      "ID = \n",
      "2\n"
     ]
    },
    {
     "ename": "error",
     "evalue": "unpack requires a buffer of 4 bytes",
     "output_type": "error",
     "traceback": [
      "\u001b[0;31m---------------------------------------------------------------------------\u001b[0m",
      "\u001b[0;31merror\u001b[0m                                     Traceback (most recent call last)",
      "\u001b[1;32m/Users/vladimirberman/Documents/RESET2022/stm_reset_2023_hl_emulator/Terminal_experimental.ipynb Ячейка 17\u001b[0m in \u001b[0;36m<cell line: 1>\u001b[0;34m()\u001b[0m\n\u001b[0;32m----> <a href='vscode-notebook-cell:/Users/vladimirberman/Documents/RESET2022/stm_reset_2023_hl_emulator/Terminal_experimental.ipynb#X20sZmlsZQ%3D%3D?line=0'>1</a>\u001b[0m ST\u001b[39m.\u001b[39;49mencoder_check(\u001b[39m2\u001b[39;49m)\n",
      "\u001b[1;32m/Users/vladimirberman/Documents/RESET2022/stm_reset_2023_hl_emulator/Terminal_experimental.ipynb Ячейка 17\u001b[0m in \u001b[0;36mSTM_API.encoder_check\u001b[0;34m(self, ID)\u001b[0m\n\u001b[1;32m    <a href='vscode-notebook-cell:/Users/vladimirberman/Documents/RESET2022/stm_reset_2023_hl_emulator/Terminal_experimental.ipynb#X20sZmlsZQ%3D%3D?line=225'>226</a>\u001b[0m \u001b[39mprint\u001b[39m(\u001b[39m\"\u001b[39m\u001b[39mID = \u001b[39m\u001b[39m\"\u001b[39m)\n\u001b[1;32m    <a href='vscode-notebook-cell:/Users/vladimirberman/Documents/RESET2022/stm_reset_2023_hl_emulator/Terminal_experimental.ipynb#X20sZmlsZQ%3D%3D?line=226'>227</a>\u001b[0m \u001b[39mprint\u001b[39m(rx_packet[\u001b[39m4\u001b[39m])\n\u001b[0;32m--> <a href='vscode-notebook-cell:/Users/vladimirberman/Documents/RESET2022/stm_reset_2023_hl_emulator/Terminal_experimental.ipynb#X20sZmlsZQ%3D%3D?line=227'>228</a>\u001b[0m \u001b[39mprint\u001b[39m(struct\u001b[39m.\u001b[39;49munpack(\u001b[39m\"\u001b[39;49m\u001b[39mI\u001b[39;49m\u001b[39m\"\u001b[39;49m, rx_packet[\u001b[39m9\u001b[39;49m:\u001b[39m13\u001b[39;49m]))\n",
      "\u001b[0;31merror\u001b[0m: unpack requires a buffer of 4 bytes"
     ]
    }
   ],
   "source": [
    "ST.encoder_check(2)"
   ]
  },
  {
   "cell_type": "code",
   "execution_count": 165,
   "metadata": {},
   "outputs": [],
   "source": [
    "ST.setPosition(2, 0)"
   ]
  },
  {
   "cell_type": "code",
   "execution_count": 492,
   "metadata": {},
   "outputs": [],
   "source": [
    "ST.set_angle(3, 30)"
   ]
  },
  {
   "cell_type": "code",
   "execution_count": 99,
   "metadata": {},
   "outputs": [],
   "source": [
    "ST.DC(0,1,0)"
   ]
  },
  {
   "cell_type": "code",
   "execution_count": 116,
   "metadata": {},
   "outputs": [],
   "source": [
    "ST.sort_golden_bot()"
   ]
  },
  {
   "cell_type": "code",
   "execution_count": 97,
   "metadata": {},
   "outputs": [],
   "source": [
    "ST.set_angle(10, 280)"
   ]
  },
  {
   "cell_type": "code",
   "execution_count": 79,
   "metadata": {},
   "outputs": [
    {
     "name": "stdout",
     "output_type": "stream",
     "text": [
      "1.9916267395019531\n",
      "129924000\n"
     ]
    }
   ],
   "source": [
    "now = time.time_ns()\n",
    "ST.robot_set_speed(0, 0, 2)\n",
    "while(1):\n",
    "    speed = ST.robot_get_speed()[2]\n",
    "    if abs(speed-2) < 0.01:\n",
    "        print(speed)\n",
    "        print(time.time_ns() - now)\n",
    "        ST.robot_set_speed(0, 0, 0)\n",
    "        break"
   ]
  },
  {
   "cell_type": "code",
   "execution_count": null,
   "metadata": {},
   "outputs": [],
   "source": [
    "\n",
    "now = time.time_ns()\n",
    "ST.robot_set_speed(0, 0, 2)\n",
    "while(1):\n",
    "    speed = ST.robot_get_speed()[2]\n",
    "    if abs(speed-2) < 0.01:\n",
    "        print(speed)\n",
    "        print(time.time_ns() - now)\n",
    "        ST.robot_set_speed(0, 0, 0)\n",
    "        break"
   ]
  },
  {
   "cell_type": "code",
   "execution_count": 86,
   "metadata": {},
   "outputs": [],
   "source": [
    "ST.robot_set_speed(0,0,0)"
   ]
  },
  {
   "cell_type": "code",
   "execution_count": 61,
   "metadata": {},
   "outputs": [
    {
     "name": "stdout",
     "output_type": "stream",
     "text": [
      "Port disconnected\n"
     ]
    }
   ],
   "source": [
    "emulator.serial_close()"
   ]
  },
  {
   "cell_type": "code",
   "execution_count": 4,
   "metadata": {},
   "outputs": [],
   "source": [
    "ST.step_angle(0, 0)"
   ]
  },
  {
   "cell_type": "code",
   "execution_count": 69,
   "metadata": {},
   "outputs": [],
   "source": [
    "ST.stop_stepper(3)"
   ]
  },
  {
   "cell_type": "code",
   "execution_count": 102,
   "metadata": {},
   "outputs": [
    {
     "name": "stdout",
     "output_type": "stream",
     "text": [
      "7.755181312561035\n",
      "1445055000\n"
     ]
    }
   ],
   "source": [
    "ST.robot_set_speed_e(0, 0, 7.85)\n",
    "time.sleep(2.5)\n",
    "print(ST.robot_get_speed()[2])\n",
    "ST.robot_set_speed_e(0, 0, 0)\n",
    "now = time.time_ns()\n",
    "while(1):\n",
    "    speed = ST.robot_get_speed()\n",
    "    if abs(speed[0]) < 0.001 and abs(speed[1]) < 0.001 and abs(speed[2]) < 0.001:\n",
    "        # print(speed)\n",
    "        print(time.time_ns() - now)\n",
    "        break\n",
    "    "
   ]
  },
  {
   "cell_type": "code",
   "execution_count": 10,
   "metadata": {},
   "outputs": [
    {
     "name": "stdout",
     "output_type": "stream",
     "text": [
      "(300,)\n"
     ]
    }
   ],
   "source": [
    "ST.get_angle(11)"
   ]
  },
  {
   "cell_type": "code",
   "execution_count": 9,
   "metadata": {},
   "outputs": [],
   "source": [
    "ST.set_joint_mode(11)"
   ]
  },
  {
   "cell_type": "code",
   "execution_count": 48,
   "metadata": {},
   "outputs": [],
   "source": [
    "# ST.set_wheel_mode(11)\n",
    "for i in range(3):\n",
    "    ST.set_speed(11, -1023)\n",
    "    time.sleep(1.43)\n",
    "    ST.set_speed(11, 0)\n",
    "    time.sleep(1)\n",
    "    ST.set_speed(11, 1023)\n",
    "    time.sleep(1.43)\n",
    "    ST.set_speed(11, 0)\n",
    "    time.sleep(1)"
   ]
  },
  {
   "cell_type": "code",
   "execution_count": 130,
   "metadata": {},
   "outputs": [
    {
     "data": {
      "text/plain": [
       "21"
      ]
     },
     "execution_count": 130,
     "metadata": {},
     "output_type": "execute_result"
    }
   ],
   "source": [
    "int(5 / 360.0 * 1530)\n"
   ]
  },
  {
   "cell_type": "code",
   "execution_count": 257,
   "metadata": {},
   "outputs": [],
   "source": [
    "ST.setPosition(1, 0)"
   ]
  },
  {
   "cell_type": "code",
   "execution_count": 361,
   "metadata": {},
   "outputs": [],
   "source": [
    "ST.sort()"
   ]
  },
  {
   "cell_type": "code",
   "execution_count": 523,
   "metadata": {},
   "outputs": [],
   "source": [
    "for i in range(3):\n",
    "    ST.grub_pile(i + 1)"
   ]
  },
  {
   "cell_type": "code",
   "execution_count": 524,
   "metadata": {},
   "outputs": [],
   "source": [
    "ST.setPosition(2, 0)"
   ]
  },
  {
   "cell_type": "code",
   "execution_count": 445,
   "metadata": {},
   "outputs": [],
   "source": [
    "for i in range(3):\n",
    "    ST.release_pile(i + 1)"
   ]
  },
  {
   "cell_type": "code",
   "execution_count": 526,
   "metadata": {},
   "outputs": [],
   "source": [
    "ST.setPosition(2, 100)"
   ]
  },
  {
   "cell_type": "code",
   "execution_count": 447,
   "metadata": {},
   "outputs": [],
   "source": [
    "ST.set_angle(4, 151)\n",
    "ST.set_angle(5, 151)\n",
    "ST.set_angle(6, 151)"
   ]
  },
  {
   "cell_type": "code",
   "execution_count": 528,
   "metadata": {},
   "outputs": [],
   "source": [
    "ST.setPosition(2, 130) # up position = 460, down = 0, p - up, sort = 118"
   ]
  },
  {
   "cell_type": "code",
   "execution_count": 529,
   "metadata": {},
   "outputs": [],
   "source": [
    "for i in range(3):\n",
    "    ST.grub_pile(i + 1)"
   ]
  },
  {
   "cell_type": "code",
   "execution_count": 530,
   "metadata": {},
   "outputs": [],
   "source": [
    "ST.setPosition(2, 470)"
   ]
  },
  {
   "cell_type": "code",
   "execution_count": 531,
   "metadata": {},
   "outputs": [],
   "source": [
    "ST.setPosition(0, -420) # down gripper, p - counter-clockwise, step 430 "
   ]
  },
  {
   "cell_type": "code",
   "execution_count": 532,
   "metadata": {},
   "outputs": [],
   "source": [
    "ST.setPosition(1, 840) # up gripper, p - clockwise"
   ]
  },
  {
   "cell_type": "code",
   "execution_count": 533,
   "metadata": {},
   "outputs": [],
   "source": [
    "ST.setPosition(2, 130)"
   ]
  },
  {
   "cell_type": "code",
   "execution_count": 534,
   "metadata": {},
   "outputs": [],
   "source": [
    "for i in range(3):\n",
    "    ST.release_pile(i + 1)"
   ]
  },
  {
   "cell_type": "code",
   "execution_count": 535,
   "metadata": {},
   "outputs": [],
   "source": [
    "ST.setPosition(2, 0)"
   ]
  },
  {
   "cell_type": "code",
   "execution_count": 78,
   "metadata": {},
   "outputs": [],
   "source": [
    "ST.set_angle(4, 151)\n",
    "ST.set_angle(6, 151)\n",
    "\n",
    "ST.set_angle(1, 45)\n",
    "ST.set_angle(3, 45)"
   ]
  },
  {
   "cell_type": "code",
   "execution_count": 537,
   "metadata": {},
   "outputs": [],
   "source": [
    "ST.set_angle(4, 135)\n",
    "ST.set_angle(6, 135)\n",
    "\n",
    "ST.set_angle(1, 25)\n",
    "ST.set_angle(3, 25)\n",
    "\n",
    "ST.set_angle(2, 45)\n",
    "ST.set_angle(5, 151)"
   ]
  },
  {
   "cell_type": "code",
   "execution_count": 538,
   "metadata": {},
   "outputs": [],
   "source": [
    "ST.setPosition(2, 100)"
   ]
  },
  {
   "cell_type": "code",
   "execution_count": 539,
   "metadata": {},
   "outputs": [],
   "source": [
    "ST.set_angle(4, 151)\n",
    "ST.set_angle(6, 151)"
   ]
  },
  {
   "cell_type": "code",
   "execution_count": 540,
   "metadata": {},
   "outputs": [],
   "source": [
    "ST.setPosition(2, 130)"
   ]
  },
  {
   "cell_type": "code",
   "execution_count": 541,
   "metadata": {},
   "outputs": [],
   "source": [
    "ST.set_angle(1, 45)\n",
    "ST.set_angle(3, 45)"
   ]
  },
  {
   "cell_type": "code",
   "execution_count": 543,
   "metadata": {},
   "outputs": [],
   "source": [
    "ST.setPosition(2, 470)"
   ]
  },
  {
   "cell_type": "code",
   "execution_count": 544,
   "metadata": {},
   "outputs": [],
   "source": [
    "ST.setPosition(1, 420)"
   ]
  },
  {
   "cell_type": "code",
   "execution_count": 545,
   "metadata": {},
   "outputs": [],
   "source": [
    "ST.setPosition(0, 0)"
   ]
  },
  {
   "cell_type": "code",
   "execution_count": 546,
   "metadata": {},
   "outputs": [],
   "source": [
    "ST.set_angle(3, 25)\n",
    "ST.set_angle(6, 135)"
   ]
  },
  {
   "cell_type": "code",
   "execution_count": 547,
   "metadata": {},
   "outputs": [],
   "source": [
    "ST.setPosition(0, 420)"
   ]
  },
  {
   "cell_type": "code",
   "execution_count": 548,
   "metadata": {},
   "outputs": [],
   "source": [
    "ST.set_angle(1, 25)"
   ]
  },
  {
   "cell_type": "code",
   "execution_count": 549,
   "metadata": {},
   "outputs": [],
   "source": [
    "ST.set_angle(1, 30)\n",
    "ST.set_angle(2, 30)\n",
    "ST.set_angle(3, 30)\n",
    "\n",
    "ST.set_angle(5, 140)\n",
    "ST.set_angle(6, 140)"
   ]
  },
  {
   "cell_type": "code",
   "execution_count": 550,
   "metadata": {},
   "outputs": [],
   "source": [
    "ST.setPosition(2, 130)"
   ]
  },
  {
   "cell_type": "code",
   "execution_count": 551,
   "metadata": {},
   "outputs": [],
   "source": [
    "ST.set_angle(2, 23)\n",
    "ST.set_angle(3, 23)"
   ]
  },
  {
   "cell_type": "code",
   "execution_count": 552,
   "metadata": {},
   "outputs": [],
   "source": [
    "ST.setPosition(2, 0)"
   ]
  },
  {
   "cell_type": "code",
   "execution_count": 553,
   "metadata": {},
   "outputs": [],
   "source": [
    "ST.set_angle(2, 45)\n",
    "ST.set_angle(3, 45)"
   ]
  },
  {
   "cell_type": "code",
   "execution_count": 554,
   "metadata": {},
   "outputs": [],
   "source": [
    "ST.setPosition(2, 470)"
   ]
  },
  {
   "cell_type": "code",
   "execution_count": 555,
   "metadata": {},
   "outputs": [],
   "source": [
    "ST.setPosition(1, 0)"
   ]
  },
  {
   "cell_type": "code",
   "execution_count": 556,
   "metadata": {},
   "outputs": [],
   "source": [
    "ST.set_angle(4, 135)"
   ]
  },
  {
   "cell_type": "code",
   "execution_count": 557,
   "metadata": {},
   "outputs": [],
   "source": [
    "ST.setPosition(0, 0)"
   ]
  },
  {
   "cell_type": "code",
   "execution_count": 558,
   "metadata": {},
   "outputs": [],
   "source": [
    "ST.set_angle(3, 25)"
   ]
  },
  {
   "cell_type": "code",
   "execution_count": 559,
   "metadata": {},
   "outputs": [],
   "source": [
    "ST.setPosition(0, -420)"
   ]
  },
  {
   "cell_type": "code",
   "execution_count": 560,
   "metadata": {},
   "outputs": [],
   "source": [
    "ST.set_angle(2, 25)"
   ]
  },
  {
   "cell_type": "code",
   "execution_count": 561,
   "metadata": {},
   "outputs": [],
   "source": [
    "ST.setPosition(0, 0)"
   ]
  },
  {
   "cell_type": "code",
   "execution_count": 562,
   "metadata": {},
   "outputs": [],
   "source": [
    "ST.setPosition(1, 0)"
   ]
  },
  {
   "cell_type": "code",
   "execution_count": null,
   "metadata": {},
   "outputs": [],
   "source": []
  },
  {
   "cell_type": "code",
   "execution_count": 566,
   "metadata": {},
   "outputs": [],
   "source": [
    "ST.set_angle(0, 10)"
   ]
  },
  {
   "cell_type": "code",
   "execution_count": 570,
   "metadata": {},
   "outputs": [],
   "source": [
    "# ST.setPosition(1, 0)\n",
    "ST.setPosition(2, -30)"
   ]
  },
  {
   "cell_type": "code",
   "execution_count": 565,
   "metadata": {},
   "outputs": [],
   "source": [
    "ST.setPosition(2, -465)"
   ]
  },
  {
   "cell_type": "code",
   "execution_count": 23,
   "metadata": {},
   "outputs": [],
   "source": [
    "ST.setPosition(2, 0)"
   ]
  },
  {
   "cell_type": "code",
   "execution_count": 134,
   "metadata": {},
   "outputs": [],
   "source": [
    "ST.setPosition(2, 465)"
   ]
  },
  {
   "cell_type": "code",
   "execution_count": 104,
   "metadata": {},
   "outputs": [
    {
     "name": "stdout",
     "output_type": "stream",
     "text": [
      "ID = \n",
      "2\n",
      "(25490,)\n"
     ]
    }
   ],
   "source": [
    "ST.sort(2)"
   ]
  },
  {
   "cell_type": "code",
   "execution_count": 116,
   "metadata": {},
   "outputs": [],
   "source": [
    "ST.DC(2, 0, 100)"
   ]
  },
  {
   "cell_type": "code",
   "execution_count": 124,
   "metadata": {},
   "outputs": [],
   "source": [
    "ST.set_angle(4, 130)"
   ]
  },
  {
   "cell_type": "code",
   "execution_count": 6,
   "metadata": {},
   "outputs": [
    {
     "name": "stdout",
     "output_type": "stream",
     "text": [
      "hui 7\n"
     ]
    }
   ],
   "source": []
  },
  {
   "cell_type": "code",
   "execution_count": 11,
   "metadata": {},
   "outputs": [
    {
     "ename": "TypeError",
     "evalue": "%d format: a number is required, not numpy.ndarray",
     "output_type": "error",
     "traceback": [
      "\u001b[0;31m---------------------------------------------------------------------------\u001b[0m",
      "\u001b[0;31mTypeError\u001b[0m                                 Traceback (most recent call last)",
      "\u001b[1;32m/Users/vladimirberman/Documents/RESET2022/stm_reset_2023_hl_emulator/Terminal_experimental.ipynb Ячейка 91\u001b[0m in \u001b[0;36m<cell line: 1>\u001b[0;34m()\u001b[0m\n\u001b[0;32m----> <a href='vscode-notebook-cell:/Users/vladimirberman/Documents/RESET2022/stm_reset_2023_hl_emulator/Terminal_experimental.ipynb#Y156sZmlsZQ%3D%3D?line=0'>1</a>\u001b[0m \u001b[39mprint\u001b[39m(\u001b[39m'\u001b[39;49m\u001b[39mjj \u001b[39;49m\u001b[39m%d\u001b[39;49;00m\u001b[39m'\u001b[39;49m \u001b[39m%\u001b[39;49m np\u001b[39m.\u001b[39;49marray([\u001b[39m5\u001b[39;49m, \u001b[39m6\u001b[39;49m]))\n",
      "\u001b[0;31mTypeError\u001b[0m: %d format: a number is required, not numpy.ndarray"
     ]
    }
   ],
   "source": [
    "print('jj %d' % np.array([5, 6]))"
   ]
  },
  {
   "cell_type": "code",
   "execution_count": 41,
   "metadata": {},
   "outputs": [],
   "source": [
    "ST.setPosition(2, 400)"
   ]
  },
  {
   "cell_type": "code",
   "execution_count": 48,
   "metadata": {},
   "outputs": [
    {
     "name": "stdout",
     "output_type": "stream",
     "text": [
      "ID = \n",
      "1\n",
      "(41014,)\n"
     ]
    }
   ],
   "source": [
    "ST.encoder_check(1)"
   ]
  },
  {
   "cell_type": "code",
   "execution_count": 69,
   "metadata": {},
   "outputs": [],
   "source": [
    "ST.setMaxonPosition(1, 2_000_002_000)"
   ]
  },
  {
   "cell_type": "code",
   "execution_count": 68,
   "metadata": {},
   "outputs": [
    {
     "name": "stdout",
     "output_type": "stream",
     "text": [
      "ID = \n",
      "1\n",
      "(2000032000,)\n"
     ]
    }
   ],
   "source": [
    "ST.encoder_check(1)"
   ]
  },
  {
   "cell_type": "code",
   "execution_count": 75,
   "metadata": {},
   "outputs": [
    {
     "data": {
      "text/plain": [
       "array([  1.,   2.,   3.,   4.,   5.,   6.,   7.,   8.,   9.,  10.,  11.,\n",
       "        12.,  13.,  14.,  15.,  16.,  17.,  18.,  19.,  20.,  21.,  22.,\n",
       "        23.,  24.,  25.,  26.,  27.,  28.,  29.,  30.,  31.,  32.,  33.,\n",
       "        34.,  35.,  36.,  37.,  38.,  39.,  40.,  41.,  42.,  43.,  44.,\n",
       "        45.,  46.,  47.,  48.,  49.,  50.,  51.,  52.,  53.,  54.,  55.,\n",
       "        56.,  57.,  58.,  59.,  60.,  61.,  62.,  63.,  64.,  65.,  66.,\n",
       "        67.,  68.,  69.,  70.,  71.,  72.,  73.,  74.,  75.,  76.,  77.,\n",
       "        78.,  79.,  80.,  81.,  82.,  83.,  84.,  85.,  86.,  87.,  88.,\n",
       "        89.,  90.,  91.,  92.,  93.,  94.,  95.,  96.,  97.,  98.,  99.,\n",
       "       100.])"
      ]
     },
     "execution_count": 75,
     "metadata": {},
     "output_type": "execute_result"
    }
   ],
   "source": []
  },
  {
   "cell_type": "code",
   "execution_count": null,
   "metadata": {},
   "outputs": [],
   "source": []
  }
 ],
 "metadata": {
  "kernelspec": {
   "display_name": "Python 3 (ipykernel)",
   "language": "python",
   "name": "python3"
  },
  "language_info": {
   "codemirror_mode": {
    "name": "ipython",
    "version": 3
   },
   "file_extension": ".py",
   "mimetype": "text/x-python",
   "name": "python",
   "nbconvert_exporter": "python",
   "pygments_lexer": "ipython3",
   "version": "3.9.16"
  },
  "vscode": {
   "interpreter": {
    "hash": "5093a82f82928e4e3ccaac4111631c3d9d4c835f3741f22949f946fa1417e3dd"
   }
  }
 },
 "nbformat": 4,
 "nbformat_minor": 2
}
